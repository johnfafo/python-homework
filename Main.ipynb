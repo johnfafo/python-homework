{
 "cells": [
  {
   "cell_type": "code",
   "execution_count": 2,
   "id": "f47bca6a-30a0-46b1-a318-a0950625a6f1",
   "metadata": {},
   "outputs": [
    {
     "name": "stdout",
     "output_type": "stream",
     "text": [
      "Total Month: 86\n",
      "Total:  $38382578\n",
      "Average Change:  $-2315.12\n",
      " Greatest Increase in Profits: Feb-2012 $1926159.0\n",
      " Greatest Decrease in Profits:Sep-2013  $-2196167.0\n"
     ]
    }
   ],
   "source": [
    "from pathlib import Path\n",
    "import pandas as pd\n",
    "csvpath = Path(\"/Users/yemifafo/python-homework/PyBank/budget_data.csv\")\n",
    "\n",
    "#Budget_data =pd.read_csv(csvpath, index_col =\"Date\") #Initially indexed date but had difficulty pully corresponding date for values\n",
    "Budget_data =pd.read_csv(csvpath)\n",
    "Budget_data.head()\n",
    "Budget_data.set_index(pd.to_datetime(Budget_data['Date'],infer_datetime_format=True),inplace=True)\n",
    "Total_Months = len(Budget_data)\n",
    "\n",
    "Answer_1 =(f\"Total Month: {Total_Months}\")\n",
    "print(Answer_1)\n",
    "\n",
    "Budget_data = Budget_data.astype({'Profit/Losses':'int'})\n",
    "Budget_data.head()\n",
    "\n",
    "#Budget_data.shape\n",
    "#Data_types=Budget_data.dtypes\n",
    "#print(Data_types)\n",
    "\n",
    "\n",
    "Data_sum =0\n",
    "Data_sum = Budget_data['Profit/Losses'].sum() \n",
    "Sum = Data_sum\n",
    "#print(Sum)\n",
    "Answer_2 = (f\"Total:  ${Sum}\")\n",
    "print(Answer_2)\n",
    "\n",
    "Average_Change= ((Budget_data['Profit/Losses'].iat[-1] - Budget_data['Profit/Losses'].iat[0])/(len(Budget_data)-1)).round(2)\n",
    "\n",
    "Answer_3 =(f\"Average Change:  ${Average_Change}\")\n",
    "print(Answer_3)\n",
    "\n",
    "Budget_data[\"difference\"]=Budget_data['Profit/Losses'].diff()\n",
    "#print(Budget_data)\n",
    "Budget_data.head()\n",
    "\n",
    "Max_gain = Budget_data.max(axis=0)['difference']\n",
    "#print (Max_gain)\n",
    "Max_Loc = Budget_data.loc[Budget_data['difference'] == Max_gain]\n",
    "#print(Max_Loc)\n",
    "Max_date = Max_Loc.iloc[0,2]\n",
    "# print(Max_date)  #checking to see if Max_loc pulls correct date\n",
    "\n",
    "Answer_4 = (f\" Greatest Increase in Profits: {Max_Loc.iloc[0,0]} ${Max_Loc.iloc[0,2]}\")\n",
    "print(Answer_4)\n",
    "\n",
    "Min_loss = Budget_data.min(axis=0)['difference']\n",
    "Min_Loc = Budget_data.loc[Budget_data['difference'] == Min_loss]\n",
    "#print(Min_loss)\n",
    "Answer_5 =(f\" Greatest Decrease in Profits:{Min_Loc.iloc[0,0]}  ${Min_Loc.iloc[0,2]}\")\n",
    "print (Answer_5)\n",
    "\n",
    "\n",
    "lines = [Answer_1, Answer_2,Answer_3,Answer_4,Answer_5]\n",
    "with open('Unit2_Homework_Assignment.txt', 'w') as f:\n",
    "    for line in lines:\n",
    "        f.write(line)\n",
    "        f.write('\\n')\n"
   ]
  },
  {
   "cell_type": "code",
   "execution_count": null,
   "id": "5c2cc57b-a3d2-48d9-9b20-b0867a888939",
   "metadata": {},
   "outputs": [],
   "source": []
  }
 ],
 "metadata": {
  "kernelspec": {
   "display_name": "Python 3 (ipykernel)",
   "language": "python",
   "name": "python3"
  },
  "language_info": {
   "codemirror_mode": {
    "name": "ipython",
    "version": 3
   },
   "file_extension": ".py",
   "mimetype": "text/x-python",
   "name": "python",
   "nbconvert_exporter": "python",
   "pygments_lexer": "ipython3",
   "version": "3.9.12"
  }
 },
 "nbformat": 4,
 "nbformat_minor": 5
}
